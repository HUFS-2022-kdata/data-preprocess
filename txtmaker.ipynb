{
 "cells": [
  {
   "cell_type": "code",
   "execution_count": 2,
   "metadata": {},
   "outputs": [],
   "source": [
    "import os\n",
    "import json\n",
    "import re\n",
    "import sys"
   ]
  },
  {
   "cell_type": "code",
   "execution_count": 3,
   "metadata": {},
   "outputs": [],
   "source": [
    "PATH = \"D:\\\\013.audio\\\\최종 데이터\"\n",
    "for folder in os.listdir(PATH):\n",
    "  for file in os.listdir(PATH + '\\\\' + folder):\n",
    "    if '.json' in file:\n",
    "      with open(PATH+'\\\\'+folder+'\\\\'+file, \"r\",encoding='utf-8') as f:\n",
    "        json_data = json.load(f)\n",
    "\n",
    "        transcript = json_data[\"Transcript\"]\n",
    "        transcript = re.sub(r\"[^가-힣 .?!0-9]+\",\"\",transcript)\n",
    "\n",
    "        #공백으로 이루어진 요소 제거\n",
    "        for i,elem in enumerate(transcript):\n",
    "          if elem == \"\":\n",
    "            del transcript[i]\n",
    "        output = open(\"{}.txt\".format(PATH+'\\\\'+folder+'\\\\'+file.strip('.json')), \"w\") \n",
    "        output.write(transcript)\n",
    "        output.close()"
   ]
  }
 ],
 "metadata": {
  "kernelspec": {
   "display_name": "Python 3.10.6 64-bit",
   "language": "python",
   "name": "python3"
  },
  "language_info": {
   "codemirror_mode": {
    "name": "ipython",
    "version": 3
   },
   "file_extension": ".py",
   "mimetype": "text/x-python",
   "name": "python",
   "nbconvert_exporter": "python",
   "pygments_lexer": "ipython3",
   "version": "3.10.6"
  },
  "orig_nbformat": 4,
  "vscode": {
   "interpreter": {
    "hash": "369f2c481f4da34e4445cda3fffd2e751bd1c4d706f27375911949ba6bb62e1c"
   }
  }
 },
 "nbformat": 4,
 "nbformat_minor": 2
}
