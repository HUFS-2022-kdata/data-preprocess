{
 "cells": [
  {
   "cell_type": "code",
   "execution_count": 1,
   "metadata": {},
   "outputs": [],
   "source": [
    "import librosa, soundfile\n",
    "import numpy as np\n",
    "import os"
   ]
  },
  {
   "cell_type": "code",
   "execution_count": 44,
   "metadata": {},
   "outputs": [],
   "source": [
    "PATH = 'D:\\\\013.audio\\\\최종 데이터'\n",
    "SAVE_PATH = 'D:\\\\013.audio\\\\증강 데이터'\n",
    "for folder in os.listdir(PATH):\n",
    "    try:\n",
    "        os.mkdir(os.path.join(SAVE_PATH,folder+\"-2\"))\n",
    "    except:\n",
    "        print(\"folder exist\")\n",
    "    save_path = os.path.join(SAVE_PATH,folder+\"-2\")\n",
    "    idx = 0\n",
    "    for file in os.listdir(os.path.join(PATH,folder)):\n",
    "        if '.wav' in file:\n",
    "            data,sr = librosa.load(os.path.join(PATH,folder,file))\n",
    "            pitch_change = librosa.effects.pitch_shift(data, sr=22050, n_steps=np.random.randint(-3,3))\n",
    "            soundfile.write(os.path.join(save_path,\"chunk{}.wav\".format(idx)), pitch_change, 22050, format='WAV')\n",
    "            idx+=1\n",
    "        elif '.txt' in file:\n",
    "            f = open(os.path.join(PATH,folder,file),\"r\")\n",
    "            transcript = f.read()\n",
    "            save_file = open(os.path.join(save_path,\"chunk{}.txt\".format(idx)),\"w\",encoding=\"cp949\")\n",
    "            save_file.write(transcript)\n",
    "            f.close()\n",
    "            save_file.close()\n",
    "        \n",
    "            "
   ]
  }
 ],
 "metadata": {
  "kernelspec": {
   "display_name": "Python 3.8.13 ('kosp')",
   "language": "python",
   "name": "python3"
  },
  "language_info": {
   "codemirror_mode": {
    "name": "ipython",
    "version": 3
   },
   "file_extension": ".py",
   "mimetype": "text/x-python",
   "name": "python",
   "nbconvert_exporter": "python",
   "pygments_lexer": "ipython3",
   "version": "3.8.13"
  },
  "orig_nbformat": 4,
  "vscode": {
   "interpreter": {
    "hash": "760bccc2958b06153294ef86aaf7fa7361d4d464866f64ecc1820b67642c5b19"
   }
  }
 },
 "nbformat": 4,
 "nbformat_minor": 2
}
